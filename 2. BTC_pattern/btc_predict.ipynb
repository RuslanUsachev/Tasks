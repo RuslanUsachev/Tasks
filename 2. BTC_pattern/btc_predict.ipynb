{
 "cells": [
  {
   "cell_type": "markdown",
   "metadata": {},
   "source": [
    "# Голова и плечи\n",
    "рассмортим данный паттерн."
   ]
  },
  {
   "cell_type": "code",
   "execution_count": 1,
   "metadata": {},
   "outputs": [
    {
     "data": {
      "text/html": [
       "<img src=\"https://i0.wp.com/incrypted.net/wp-content/uploads/2019/10/bd31b02728d1dbb8eff33.jpg?fit=640%2C453&ssl=1\" width=\"1000\"/>"
      ],
      "text/plain": [
       "<IPython.core.display.Image object>"
      ]
     },
     "metadata": {},
     "output_type": "display_data"
    }
   ],
   "source": [
    "from IPython.display import Image\n",
    "\n",
    "display(Image(url='https://i0.wp.com/incrypted.net/wp-content/uploads/2019/10/bd31b02728d1dbb8eff33.jpg?fit=640%2C453&ssl=1', \n",
    "              width = 1000))"
   ]
  },
  {
   "cell_type": "code",
   "execution_count": 2,
   "metadata": {},
   "outputs": [
    {
     "name": "stdout",
     "output_type": "stream",
     "text": [
      "Requirement already satisfied: scipy in c:\\users\\ruslan\\anaconda3\\lib\\site-packages (1.5.0)\n",
      "Requirement already satisfied: numpy>=1.14.5 in c:\\users\\ruslan\\anaconda3\\lib\\site-packages (from scipy) (1.19.5)\n"
     ]
    }
   ],
   "source": [
    "import pandas as pd\n",
    "import matplotlib.pyplot as plt\n",
    "!pip install scipy"
   ]
  },
  {
   "cell_type": "code",
   "execution_count": 3,
   "metadata": {},
   "outputs": [
    {
     "data": {
      "text/html": [
       "<div>\n",
       "<style scoped>\n",
       "    .dataframe tbody tr th:only-of-type {\n",
       "        vertical-align: middle;\n",
       "    }\n",
       "\n",
       "    .dataframe tbody tr th {\n",
       "        vertical-align: top;\n",
       "    }\n",
       "\n",
       "    .dataframe thead th {\n",
       "        text-align: right;\n",
       "    }\n",
       "</style>\n",
       "<table border=\"1\" class=\"dataframe\">\n",
       "  <thead>\n",
       "    <tr style=\"text-align: right;\">\n",
       "      <th></th>\n",
       "      <th>Дата</th>\n",
       "      <th>Цена</th>\n",
       "      <th>Откр.</th>\n",
       "      <th>Макс.</th>\n",
       "      <th>Мин.</th>\n",
       "      <th>Объём</th>\n",
       "      <th>Изм. %</th>\n",
       "    </tr>\n",
       "  </thead>\n",
       "  <tbody>\n",
       "    <tr>\n",
       "      <th>0</th>\n",
       "      <td>31.07.2021</td>\n",
       "      <td>41.553,7</td>\n",
       "      <td>42.201,4</td>\n",
       "      <td>42.285,3</td>\n",
       "      <td>41.066,4</td>\n",
       "      <td>44,65K</td>\n",
       "      <td>-1,54%</td>\n",
       "    </tr>\n",
       "    <tr>\n",
       "      <th>1</th>\n",
       "      <td>30.07.2021</td>\n",
       "      <td>42.203,4</td>\n",
       "      <td>40.001,1</td>\n",
       "      <td>42.264,4</td>\n",
       "      <td>38.358,4</td>\n",
       "      <td>98,45K</td>\n",
       "      <td>5,50%</td>\n",
       "    </tr>\n",
       "    <tr>\n",
       "      <th>2</th>\n",
       "      <td>29.07.2021</td>\n",
       "      <td>40.001,4</td>\n",
       "      <td>40.009,0</td>\n",
       "      <td>40.630,7</td>\n",
       "      <td>39.340,8</td>\n",
       "      <td>75,30K</td>\n",
       "      <td>-0,00%</td>\n",
       "    </tr>\n",
       "    <tr>\n",
       "      <th>3</th>\n",
       "      <td>28.07.2021</td>\n",
       "      <td>40.003,2</td>\n",
       "      <td>39.450,4</td>\n",
       "      <td>40.862,2</td>\n",
       "      <td>38.883,8</td>\n",
       "      <td>148,92K</td>\n",
       "      <td>1,40%</td>\n",
       "    </tr>\n",
       "    <tr>\n",
       "      <th>4</th>\n",
       "      <td>27.07.2021</td>\n",
       "      <td>39.452,0</td>\n",
       "      <td>37.294,3</td>\n",
       "      <td>39.455,9</td>\n",
       "      <td>36.427,4</td>\n",
       "      <td>100,24K</td>\n",
       "      <td>5,84%</td>\n",
       "    </tr>\n",
       "  </tbody>\n",
       "</table>\n",
       "</div>"
      ],
      "text/plain": [
       "         Дата      Цена     Откр.     Макс.      Мин.    Объём  Изм. %\n",
       "0  31.07.2021  41.553,7  42.201,4  42.285,3  41.066,4   44,65K  -1,54%\n",
       "1  30.07.2021  42.203,4  40.001,1  42.264,4  38.358,4   98,45K   5,50%\n",
       "2  29.07.2021  40.001,4  40.009,0  40.630,7  39.340,8   75,30K  -0,00%\n",
       "3  28.07.2021  40.003,2  39.450,4  40.862,2  38.883,8  148,92K   1,40%\n",
       "4  27.07.2021  39.452,0  37.294,3  39.455,9  36.427,4  100,24K   5,84%"
      ]
     },
     "execution_count": 3,
     "metadata": {},
     "output_type": "execute_result"
    }
   ],
   "source": [
    "df = pd.read_csv(\"data_btc.csv\")\n",
    "df.head()"
   ]
  },
  {
   "cell_type": "code",
   "execution_count": 4,
   "metadata": {},
   "outputs": [],
   "source": [
    "new_columns = ['date', 'close', 'open', 'high', 'low', 'vol', 'change']\n",
    "df.columns = new_columns"
   ]
  },
  {
   "cell_type": "code",
   "execution_count": 5,
   "metadata": {},
   "outputs": [],
   "source": [
    "df = df.iloc[::-1]"
   ]
  },
  {
   "cell_type": "code",
   "execution_count": 6,
   "metadata": {},
   "outputs": [
    {
     "data": {
      "text/html": [
       "<div>\n",
       "<style scoped>\n",
       "    .dataframe tbody tr th:only-of-type {\n",
       "        vertical-align: middle;\n",
       "    }\n",
       "\n",
       "    .dataframe tbody tr th {\n",
       "        vertical-align: top;\n",
       "    }\n",
       "\n",
       "    .dataframe thead th {\n",
       "        text-align: right;\n",
       "    }\n",
       "</style>\n",
       "<table border=\"1\" class=\"dataframe\">\n",
       "  <thead>\n",
       "    <tr style=\"text-align: right;\">\n",
       "      <th></th>\n",
       "      <th>close</th>\n",
       "      <th>open</th>\n",
       "      <th>high</th>\n",
       "      <th>low</th>\n",
       "      <th>vol</th>\n",
       "      <th>change</th>\n",
       "    </tr>\n",
       "    <tr>\n",
       "      <th>date</th>\n",
       "      <th></th>\n",
       "      <th></th>\n",
       "      <th></th>\n",
       "      <th></th>\n",
       "      <th></th>\n",
       "      <th></th>\n",
       "    </tr>\n",
       "  </thead>\n",
       "  <tbody>\n",
       "    <tr>\n",
       "      <th>2021-03-01</th>\n",
       "      <td>49.595,5</td>\n",
       "      <td>45.160,5</td>\n",
       "      <td>49.774,0</td>\n",
       "      <td>45.008,8</td>\n",
       "      <td>137,52K</td>\n",
       "      <td>9,81%</td>\n",
       "    </tr>\n",
       "    <tr>\n",
       "      <th>2021-03-02</th>\n",
       "      <td>48.424,2</td>\n",
       "      <td>49.595,6</td>\n",
       "      <td>50.191,9</td>\n",
       "      <td>47.100,6</td>\n",
       "      <td>102,10K</td>\n",
       "      <td>-2,36%</td>\n",
       "    </tr>\n",
       "    <tr>\n",
       "      <th>2021-03-03</th>\n",
       "      <td>50.395,1</td>\n",
       "      <td>48.422,2</td>\n",
       "      <td>52.567,9</td>\n",
       "      <td>48.159,2</td>\n",
       "      <td>44,93K</td>\n",
       "      <td>4,07%</td>\n",
       "    </tr>\n",
       "    <tr>\n",
       "      <th>2021-03-04</th>\n",
       "      <td>48.428,0</td>\n",
       "      <td>50.388,0</td>\n",
       "      <td>51.757,7</td>\n",
       "      <td>47.521,8</td>\n",
       "      <td>9,56K</td>\n",
       "      <td>-3,90%</td>\n",
       "    </tr>\n",
       "    <tr>\n",
       "      <th>2021-03-05</th>\n",
       "      <td>48.792,5</td>\n",
       "      <td>48.363,6</td>\n",
       "      <td>49.429,4</td>\n",
       "      <td>46.370,1</td>\n",
       "      <td>113,64K</td>\n",
       "      <td>0,75%</td>\n",
       "    </tr>\n",
       "  </tbody>\n",
       "</table>\n",
       "</div>"
      ],
      "text/plain": [
       "               close      open      high       low      vol  change\n",
       "date                                                               \n",
       "2021-03-01  49.595,5  45.160,5  49.774,0  45.008,8  137,52K   9,81%\n",
       "2021-03-02  48.424,2  49.595,6  50.191,9  47.100,6  102,10K  -2,36%\n",
       "2021-03-03  50.395,1  48.422,2  52.567,9  48.159,2   44,93K   4,07%\n",
       "2021-03-04  48.428,0  50.388,0  51.757,7  47.521,8    9,56K  -3,90%\n",
       "2021-03-05  48.792,5  48.363,6  49.429,4  46.370,1  113,64K   0,75%"
      ]
     },
     "execution_count": 6,
     "metadata": {},
     "output_type": "execute_result"
    }
   ],
   "source": [
    "df[\"date\"] = pd.to_datetime(df[\"date\"], format=\"%d.%m.%Y\")\n",
    "df = df.set_index('date')\n",
    "df.head()"
   ]
  },
  {
   "cell_type": "code",
   "execution_count": 7,
   "metadata": {},
   "outputs": [
    {
     "name": "stderr",
     "output_type": "stream",
     "text": [
      "<ipython-input-7-2b990ab8d867>:4: FutureWarning: The default value of regex will change from True to False in a future version. In addition, single character regular expressions will *not* be treated as literal strings when regex=True.\n",
      "  df[col] = df[col].str.replace('.', '')\n"
     ]
    }
   ],
   "source": [
    "cols = ['close', 'open', 'high', 'low']\n",
    "\n",
    "for col in cols:\n",
    "    df[col] = df[col].str.replace('.', '')\n",
    "    df[col] = df[col].str.replace(',', '.')\n",
    "    df[col] = df[col].astype('float')"
   ]
  },
  {
   "cell_type": "code",
   "execution_count": 8,
   "metadata": {},
   "outputs": [],
   "source": [
    "df['vol'] = df['vol'].str.replace('K', '')\n",
    "df['vol'] = df['vol'].str.replace(',', '.')\n",
    "df['vol'] = df['vol'].astype('float') * 1000"
   ]
  },
  {
   "cell_type": "code",
   "execution_count": 9,
   "metadata": {},
   "outputs": [
    {
     "data": {
      "text/html": [
       "<div>\n",
       "<style scoped>\n",
       "    .dataframe tbody tr th:only-of-type {\n",
       "        vertical-align: middle;\n",
       "    }\n",
       "\n",
       "    .dataframe tbody tr th {\n",
       "        vertical-align: top;\n",
       "    }\n",
       "\n",
       "    .dataframe thead th {\n",
       "        text-align: right;\n",
       "    }\n",
       "</style>\n",
       "<table border=\"1\" class=\"dataframe\">\n",
       "  <thead>\n",
       "    <tr style=\"text-align: right;\">\n",
       "      <th></th>\n",
       "      <th>close</th>\n",
       "      <th>open</th>\n",
       "      <th>high</th>\n",
       "      <th>low</th>\n",
       "      <th>vol</th>\n",
       "      <th>change</th>\n",
       "    </tr>\n",
       "    <tr>\n",
       "      <th>date</th>\n",
       "      <th></th>\n",
       "      <th></th>\n",
       "      <th></th>\n",
       "      <th></th>\n",
       "      <th></th>\n",
       "      <th></th>\n",
       "    </tr>\n",
       "  </thead>\n",
       "  <tbody>\n",
       "    <tr>\n",
       "      <th>2021-03-01</th>\n",
       "      <td>49595.5</td>\n",
       "      <td>45160.5</td>\n",
       "      <td>49774.0</td>\n",
       "      <td>45008.8</td>\n",
       "      <td>137520.0</td>\n",
       "      <td>9,81%</td>\n",
       "    </tr>\n",
       "    <tr>\n",
       "      <th>2021-03-02</th>\n",
       "      <td>48424.2</td>\n",
       "      <td>49595.6</td>\n",
       "      <td>50191.9</td>\n",
       "      <td>47100.6</td>\n",
       "      <td>102100.0</td>\n",
       "      <td>-2,36%</td>\n",
       "    </tr>\n",
       "    <tr>\n",
       "      <th>2021-03-03</th>\n",
       "      <td>50395.1</td>\n",
       "      <td>48422.2</td>\n",
       "      <td>52567.9</td>\n",
       "      <td>48159.2</td>\n",
       "      <td>44930.0</td>\n",
       "      <td>4,07%</td>\n",
       "    </tr>\n",
       "    <tr>\n",
       "      <th>2021-03-04</th>\n",
       "      <td>48428.0</td>\n",
       "      <td>50388.0</td>\n",
       "      <td>51757.7</td>\n",
       "      <td>47521.8</td>\n",
       "      <td>9560.0</td>\n",
       "      <td>-3,90%</td>\n",
       "    </tr>\n",
       "    <tr>\n",
       "      <th>2021-03-05</th>\n",
       "      <td>48792.5</td>\n",
       "      <td>48363.6</td>\n",
       "      <td>49429.4</td>\n",
       "      <td>46370.1</td>\n",
       "      <td>113640.0</td>\n",
       "      <td>0,75%</td>\n",
       "    </tr>\n",
       "  </tbody>\n",
       "</table>\n",
       "</div>"
      ],
      "text/plain": [
       "              close     open     high      low       vol  change\n",
       "date                                                            \n",
       "2021-03-01  49595.5  45160.5  49774.0  45008.8  137520.0   9,81%\n",
       "2021-03-02  48424.2  49595.6  50191.9  47100.6  102100.0  -2,36%\n",
       "2021-03-03  50395.1  48422.2  52567.9  48159.2   44930.0   4,07%\n",
       "2021-03-04  48428.0  50388.0  51757.7  47521.8    9560.0  -3,90%\n",
       "2021-03-05  48792.5  48363.6  49429.4  46370.1  113640.0   0,75%"
      ]
     },
     "execution_count": 9,
     "metadata": {},
     "output_type": "execute_result"
    }
   ],
   "source": [
    "df.head()"
   ]
  },
  {
   "cell_type": "code",
   "execution_count": 10,
   "metadata": {},
   "outputs": [
    {
     "data": {
      "image/png": "[encoded data removed]",
      "text/plain": [
       "<Figure size 720x432 with 1 Axes>"
      ]
     },
     "metadata": {
      "needs_background": "light"
     },
     "output_type": "display_data"
    }
   ],
   "source": [
    "plt.figure(figsize=(10,6))\n",
    "plt.grid(True)\n",
    "plt.xlabel('date')\n",
    "plt.ylabel('Close Prices')\n",
    "plt.plot(df['close'])\n",
    "plt.title('BTC closing price')\n",
    "plt.show()"
   ]
  },
  {
   "cell_type": "markdown",
   "metadata": {},
   "source": [
    "# Задание\n",
    "\n",
    "## Составить алгоритм, который находит паттерн 'голова и плечи' и точку входа для шорт сделки."
   ]
  },
  {
   "cell_type": "markdown",
   "metadata": {},
   "source": [
    "## Найдём минимумы и максимумы"
   ]
  },
  {
   "cell_type": "code",
   "execution_count": 11,
   "metadata": {},
   "outputs": [
    {
     "data": {
      "text/plain": [
       "day_num\n",
       "4      48792.5\n",
       "12     61195.3\n",
       "24     51322.3\n",
       "27     55765.2\n",
       "35     58993.4\n",
       "41     59978.7\n",
       "43     63540.9\n",
       "55     48963.6\n",
       "68     58840.1\n",
       "74     49839.8\n",
       "86     39249.2\n",
       "89     34584.6\n",
       "99     33382.9\n",
       "105    40529.4\n",
       "108    38052.0\n",
       "116    31594.0\n",
       "120    35834.7\n",
       "137    31394.0\n",
       "141    29793.8\n",
       "Name: close, dtype: float64"
      ]
     },
     "execution_count": 11,
     "metadata": {},
     "output_type": "execute_result"
    }
   ],
   "source": [
    "import numpy as np\n",
    "from scipy.signal import argrelextrema\n",
    "\n",
    "def get_max_min(prices, smoothing, window_range):\n",
    "    smooth_prices = prices['close'].rolling(window=smoothing).mean().dropna()\n",
    "    local_max = argrelextrema(smooth_prices.values, np.greater)[0]\n",
    "    local_min = argrelextrema(smooth_prices.values, np.less)[0]\n",
    "    price_local_max_dt = []\n",
    "    for i in local_max:\n",
    "        if (i>window_range) and (i<len(prices)-window_range):\n",
    "            price_local_max_dt.append(prices.iloc[i-window_range:i+window_range]['close'].idxmax())\n",
    "    price_local_min_dt = []\n",
    "    for i in local_min:\n",
    "        if (i>window_range) and (i<len(prices)-window_range):\n",
    "            price_local_min_dt.append(prices.iloc[i-window_range:i+window_range]['close'].idxmin())  \n",
    "    maxima = pd.DataFrame(prices.loc[price_local_max_dt])\n",
    "    minima = pd.DataFrame(prices.loc[price_local_min_dt])\n",
    "    max_min = pd.concat([maxima, minima]).sort_index()\n",
    "    max_min.index.name = 'date'\n",
    "    max_min = max_min.reset_index()\n",
    "    max_min = max_min[~max_min.date.duplicated()]\n",
    "    p = prices.reset_index()   \n",
    "    max_min['day_num'] = p[p['date'].isin(max_min.date)].index.values\n",
    "    max_min = max_min.set_index('day_num')['close']\n",
    "    \n",
    "    return max_min\n",
    "\n",
    "smoothing = 4\n",
    "window = 10\n",
    "\n",
    "minmax = get_max_min(df, smoothing, window)\n",
    "minmax"
   ]
  },
  {
   "cell_type": "code",
   "execution_count": 12,
   "metadata": {},
   "outputs": [
    {
     "data": {
      "text/plain": [
       "<matplotlib.collections.PathCollection at 0x206d2d49640>"
      ]
     },
     "execution_count": 12,
     "metadata": {},
     "output_type": "execute_result"
    },
    {
     "data": {
      "image/png": "[encoded data removed]",
      "text/plain": [
       "<Figure size 432x288 with 1 Axes>"
      ]
     },
     "metadata": {
      "needs_background": "light"
     },
     "output_type": "display_data"
    }
   ],
   "source": [
    "df.reset_index()['close'].plot()\n",
    "plt.scatter(minmax.index, minmax.values)"
   ]
  },
  {
   "cell_type": "markdown",
   "metadata": {},
   "source": [
    "## Составим алгоритм где A C E - являются плечами и головой. B D - являются локальными минимумами. "
   ]
  },
  {
   "cell_type": "code",
   "execution_count": 13,
   "metadata": {},
   "outputs": [
    {
     "data": {
      "text/plain": [
       "day_num\n",
       "12    61195.3\n",
       "24    51322.3\n",
       "43    63540.9\n",
       "55    48963.6\n",
       "68    58840.1\n",
       "74    49839.8\n",
       "Name: close, dtype: float64"
      ]
     },
     "execution_count": 13,
     "metadata": {},
     "output_type": "execute_result"
    }
   ],
   "source": [
    "def get_head_shouldsers(minmaxer):\n",
    "    mm_res = minmaxer.values\n",
    "    mm_res\n",
    "    c_id = mm_res.argsort()[::-1][0]\n",
    "    a_id = mm_res[:c_id].argsort()[::-1][0]\n",
    "    e_id = mm_res[c_id+1:].argsort()[::-1][0] + c_id+1\n",
    "    b_id = np.argmin(mm_res[a_id+1:c_id+1]) + a_id+1\n",
    "    d_id = np.argmin(mm_res[c_id+1:e_id+1]) + c_id+1\n",
    "    \n",
    "    dist = 1000000000\n",
    "    d = minmax.iloc[d_id]\n",
    "    enter_sh = 0\n",
    "    cntr= 0\n",
    "    for i, val in enumerate(mm_res[e_id+1:]):\n",
    "        distr = abs(val - d)\n",
    "        if distr < dist:\n",
    "            dist = distr\n",
    "            enter_short = i\n",
    "            cntr= 0 \n",
    "        if distr > dist:\n",
    "            cntr+=1\n",
    "        if cntr >=2:\n",
    "            break\n",
    "    enter_short = enter_short + e_id +1\n",
    "    return minmaxer.iloc[[a_id, b_id, c_id, d_id, e_id, enter_short]]\n",
    "\n",
    "answer = get_head_shouldsers(minmax)\n",
    "answer"
   ]
  },
  {
   "cell_type": "markdown",
   "metadata": {},
   "source": [
    "## enter_short - вход для шорт сделки."
   ]
  },
  {
   "cell_type": "code",
   "execution_count": 14,
   "metadata": {},
   "outputs": [
    {
     "data": {
      "text/plain": [
       "<matplotlib.collections.PathCollection at 0x206d4cfd9a0>"
      ]
     },
     "execution_count": 14,
     "metadata": {},
     "output_type": "execute_result"
    },
    {
     "data": {
      "image/png": "[encoded data removed]",
      "text/plain": [
       "<Figure size 432x288 with 1 Axes>"
      ]
     },
     "metadata": {
      "needs_background": "light"
     },
     "output_type": "display_data"
    }
   ],
   "source": [
    "df.reset_index()['close'].plot()\n",
    "plt.scatter(minmax.index, minmax.values)\n",
    "plt.scatter(answer.index,answer.values)\n",
    "\n",
    "#plt.scatter(res_.index, ans)\n",
    "#plt.plot(df.index, df['close'])"
   ]
  },
  {
   "cell_type": "code",
   "execution_count": null,
   "metadata": {},
   "outputs": [],
   "source": []
  }
 ],
 "metadata": {
  "kernelspec": {
   "display_name": "Python 3",
   "language": "python",
   "name": "python3"
  },
  "language_info": {
   "codemirror_mode": {
    "name": "ipython",
    "version": 3
   },
   "file_extension": ".py",
   "mimetype": "text/x-python",
   "name": "python",
   "nbconvert_exporter": "python",
   "pygments_lexer": "ipython3",
   "version": "3.8.3"
  }
 },
 "nbformat": 4,
 "nbformat_minor": 4
}
