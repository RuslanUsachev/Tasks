{
 "cells": [
  {
   "cell_type": "markdown",
   "metadata": {},
   "source": [
    "## Задание №1\n",
    "\n",
    "> В специальной лотерее игрок выбирает 5 разных чисел из возможных 30. В этот же день случайным образом определяется победная комбинация из 7 разных чисел (из того же набора). Игрок считается победителем в случае, если совпадают любые 4 числа в выбранном им наборе и в победной комбинации.\n",
    ">"
   ]
  },
  {
   "cell_type": "markdown",
   "metadata": {},
   "source": [
    "**Какова вероятность выигрыша?**"
   ]
  },
  {
   "cell_type": "code",
   "execution_count": 1,
   "metadata": {},
   "outputs": [],
   "source": [
    "N = 30\n",
    "M = 7\n",
    "\n",
    "n = 5\n",
    "k = 4"
   ]
  },
  {
   "cell_type": "markdown",
   "metadata": {},
   "source": [
    "**Сочетания равны:**"
   ]
  },
  {
   "cell_type": "code",
   "execution_count": 2,
   "metadata": {},
   "outputs": [],
   "source": [
    "import math\n",
    "C_k_M = math.factorial(7)/(math.factorial(4)*math.factorial(7-4))\n",
    "\n",
    "C_N_M = math.factorial(30-7)/(math.factorial(1)*math.factorial(30-7-1))\n",
    "\n",
    "C_n_N = math.factorial(30)/(math.factorial(5)*math.factorial(30-5))"
   ]
  },
  {
   "cell_type": "markdown",
   "metadata": {},
   "source": [
    "**Вероятность равна:**"
   ]
  },
  {
   "cell_type": "code",
   "execution_count": 3,
   "metadata": {},
   "outputs": [
    {
     "name": "stdout",
     "output_type": "stream",
     "text": [
      "0.005648884959229787\n"
     ]
    }
   ],
   "source": [
    "P = C_k_M * C_N_M / C_n_N\n",
    "\n",
    "print(P)"
   ]
  },
  {
   "cell_type": "markdown",
   "metadata": {},
   "source": [
    "## Задание №2\n",
    "\n",
    "> В файле \"Lightmap. Тестовое задание №2.csv\" построчно приведены записи событий установки приложения (install) и начала сессии (login). В столбце player_id указан уникальный id пользователя, в столбце event_timestamp - время события (unix timestamp UTC). \n",
    "\n",
    "> Удержание первого дня определяется как доля уникальных пользователей, отправивших событие login на следующий *календарный* день, среди всех пользователей, отправивших событие install в текущий *календарный* день. Например, если 1 сентября 100 пользователей скачали приложение, и 50 *из них* совершили логин 2 сентября, удержание первого дня для 1 сентября составляет 50%.\n",
    "\n",
    "> Удержание первого дня для периода дат определяется как отношение общего числа уникальных пользователей, вернувшихся в приложение на следующий день после дня установки, к общему числу уникальных пользователей, совершивших установку в рамках заданного периода дат.\n"
   ]
  },
  {
   "cell_type": "markdown",
   "metadata": {},
   "source": [
    "> Например, если 2 сентября 200 пользователей скачали приложение, и 75 из них совершили логин 3 сентября, удержание первого дня за период 1-2 сентября составляет: (50 + 75) / (100 + 200) ≈ 42%"
   ]
  },
  {
   "cell_type": "markdown",
   "metadata": {},
   "source": [
    "**Можно ли с уверенностью утверждать, что удержание первого дня за период с 15 по 18 сентября выше, чем удержание первого дня за период с 19 по 22 сентября? И почему?**"
   ]
  },
  {
   "cell_type": "code",
   "execution_count": 4,
   "metadata": {},
   "outputs": [],
   "source": [
    "import pandas as pd"
   ]
  },
  {
   "cell_type": "code",
   "execution_count": 5,
   "metadata": {},
   "outputs": [
    {
     "data": {
      "text/plain": [
       "(52543, 3)"
      ]
     },
     "execution_count": 5,
     "metadata": {},
     "output_type": "execute_result"
    }
   ],
   "source": [
    "# Загрузим данные Lightmap. Тестовое задание №2.csv\n",
    "data = pd.read_csv('Lightmap. Тестовое задание №2.csv')\n",
    "data.shape"
   ]
  },
  {
   "cell_type": "code",
   "execution_count": 6,
   "metadata": {},
   "outputs": [
    {
     "name": "stdout",
     "output_type": "stream",
     "text": [
      "<class 'pandas.core.frame.DataFrame'>\n",
      "RangeIndex: 52543 entries, 0 to 52542\n",
      "Data columns (total 3 columns):\n",
      " #   Column           Non-Null Count  Dtype \n",
      "---  ------           --------------  ----- \n",
      " 0   player_id        52543 non-null  int64 \n",
      " 1   event_timestamp  52543 non-null  int64 \n",
      " 2   event_name       52543 non-null  object\n",
      "dtypes: int64(2), object(1)\n",
      "memory usage: 1.2+ MB\n"
     ]
    }
   ],
   "source": [
    "data.info()"
   ]
  },
  {
   "cell_type": "code",
   "execution_count": 7,
   "metadata": {},
   "outputs": [],
   "source": [
    "# Переведём unix timestamp UTC в дату\n",
    "data['date'] = pd.to_datetime(data[\"event_timestamp\"],unit='s')"
   ]
  },
  {
   "cell_type": "code",
   "execution_count": 8,
   "metadata": {},
   "outputs": [],
   "source": [
    "# Отсортируем данные по времени и дате\n",
    "data = data.sort_values(by='date')"
   ]
  },
  {
   "cell_type": "code",
   "execution_count": 9,
   "metadata": {},
   "outputs": [],
   "source": [
    "# Удалим пользователей, у которых мы не знаем дату установки\n",
    "dic =[]\n",
    "for i in data['player_id']:\n",
    "    if data[data.player_id ==i].event_name.iloc[0] == 'install':\n",
    "        dic.append(i)\n",
    "\n",
    " \n",
    "for i in data['player_id']:   \n",
    "    if i not in dic:\n",
    "        data.drop(data[data.player_id == i].index, inplace=True)"
   ]
  },
  {
   "cell_type": "code",
   "execution_count": 10,
   "metadata": {},
   "outputs": [],
   "source": [
    "# Произведём подсчет воличества встречающихся нам id\n",
    "data['player_id_count'] = data.groupby('player_id').cumcount()+1"
   ]
  },
  {
   "cell_type": "code",
   "execution_count": 11,
   "metadata": {},
   "outputs": [],
   "source": [
    "# Удалим пользователей, которые регестрируются больше одного раза\n",
    "for i in data['player_id_count']:   \n",
    "    if i > 2:\n",
    "        data.drop(data[data.player_id_count == i].index, inplace=True)"
   ]
  },
  {
   "cell_type": "code",
   "execution_count": 12,
   "metadata": {},
   "outputs": [],
   "source": [
    "# Сгенерируем новые признаки\n",
    "data2 = pd.get_dummies(data['event_name'])\n",
    "data2 = pd.concat([data, data2], axis=1)"
   ]
  },
  {
   "cell_type": "code",
   "execution_count": 13,
   "metadata": {},
   "outputs": [],
   "source": [
    "# Сортируем по дате\n",
    "data2 = data2.sort_values(by='date')"
   ]
  },
  {
   "cell_type": "code",
   "execution_count": 14,
   "metadata": {},
   "outputs": [],
   "source": [
    "# Убираем время в дате\n",
    "data2 = data2.assign(date = lambda x: pd.to_datetime(x['date'].dt.strftime('%Y-%m-%d')))"
   ]
  },
  {
   "cell_type": "code",
   "execution_count": 36,
   "metadata": {},
   "outputs": [],
   "source": [
    "# Убираем пользователей, которые установили приложение и зарегистрировались в этот же день\n",
    "data_date_id = data2[['date','player_id']]\n",
    "data_duplicates = data_date_id[data_date_id.duplicated()]\n",
    "\n",
    "for ids in data2['player_id']:   \n",
    "    if ids in data_duplicates['player_id'].values:\n",
    "        data2.drop(data2[data2.player_id == ids].index, inplace=True)"
   ]
  },
  {
   "cell_type": "code",
   "execution_count": 37,
   "metadata": {},
   "outputs": [
    {
     "data": {
      "text/html": [
       "<div>\n",
       "<style scoped>\n",
       "    .dataframe tbody tr th:only-of-type {\n",
       "        vertical-align: middle;\n",
       "    }\n",
       "\n",
       "    .dataframe tbody tr th {\n",
       "        vertical-align: top;\n",
       "    }\n",
       "\n",
       "    .dataframe thead th {\n",
       "        text-align: right;\n",
       "    }\n",
       "</style>\n",
       "<table border=\"1\" class=\"dataframe\">\n",
       "  <thead>\n",
       "    <tr style=\"text-align: right;\">\n",
       "      <th></th>\n",
       "      <th>player_id</th>\n",
       "      <th>event_timestamp</th>\n",
       "      <th>event_name</th>\n",
       "      <th>date</th>\n",
       "      <th>player_id_count</th>\n",
       "      <th>install</th>\n",
       "      <th>login</th>\n",
       "    </tr>\n",
       "  </thead>\n",
       "  <tbody>\n",
       "    <tr>\n",
       "      <th>49928</th>\n",
       "      <td>1047198</td>\n",
       "      <td>1631664035</td>\n",
       "      <td>install</td>\n",
       "      <td>2021-09-15</td>\n",
       "      <td>1</td>\n",
       "      <td>1</td>\n",
       "      <td>0</td>\n",
       "    </tr>\n",
       "    <tr>\n",
       "      <th>1832</th>\n",
       "      <td>1047199</td>\n",
       "      <td>1631664044</td>\n",
       "      <td>install</td>\n",
       "      <td>2021-09-15</td>\n",
       "      <td>1</td>\n",
       "      <td>1</td>\n",
       "      <td>0</td>\n",
       "    </tr>\n",
       "    <tr>\n",
       "      <th>51799</th>\n",
       "      <td>1045961</td>\n",
       "      <td>1631664057</td>\n",
       "      <td>install</td>\n",
       "      <td>2021-09-15</td>\n",
       "      <td>1</td>\n",
       "      <td>1</td>\n",
       "      <td>0</td>\n",
       "    </tr>\n",
       "    <tr>\n",
       "      <th>3236</th>\n",
       "      <td>1047200</td>\n",
       "      <td>1631664061</td>\n",
       "      <td>install</td>\n",
       "      <td>2021-09-15</td>\n",
       "      <td>1</td>\n",
       "      <td>1</td>\n",
       "      <td>0</td>\n",
       "    </tr>\n",
       "    <tr>\n",
       "      <th>853</th>\n",
       "      <td>1047203</td>\n",
       "      <td>1631664085</td>\n",
       "      <td>install</td>\n",
       "      <td>2021-09-15</td>\n",
       "      <td>1</td>\n",
       "      <td>1</td>\n",
       "      <td>0</td>\n",
       "    </tr>\n",
       "    <tr>\n",
       "      <th>...</th>\n",
       "      <td>...</td>\n",
       "      <td>...</td>\n",
       "      <td>...</td>\n",
       "      <td>...</td>\n",
       "      <td>...</td>\n",
       "      <td>...</td>\n",
       "      <td>...</td>\n",
       "    </tr>\n",
       "    <tr>\n",
       "      <th>51529</th>\n",
       "      <td>1062270</td>\n",
       "      <td>1632441435</td>\n",
       "      <td>install</td>\n",
       "      <td>2021-09-23</td>\n",
       "      <td>1</td>\n",
       "      <td>1</td>\n",
       "      <td>0</td>\n",
       "    </tr>\n",
       "    <tr>\n",
       "      <th>9207</th>\n",
       "      <td>1062272</td>\n",
       "      <td>1632441512</td>\n",
       "      <td>install</td>\n",
       "      <td>2021-09-23</td>\n",
       "      <td>1</td>\n",
       "      <td>1</td>\n",
       "      <td>0</td>\n",
       "    </tr>\n",
       "    <tr>\n",
       "      <th>13090</th>\n",
       "      <td>1062274</td>\n",
       "      <td>1632441540</td>\n",
       "      <td>install</td>\n",
       "      <td>2021-09-23</td>\n",
       "      <td>1</td>\n",
       "      <td>1</td>\n",
       "      <td>0</td>\n",
       "    </tr>\n",
       "    <tr>\n",
       "      <th>5812</th>\n",
       "      <td>1062277</td>\n",
       "      <td>1632441579</td>\n",
       "      <td>install</td>\n",
       "      <td>2021-09-23</td>\n",
       "      <td>1</td>\n",
       "      <td>1</td>\n",
       "      <td>0</td>\n",
       "    </tr>\n",
       "    <tr>\n",
       "      <th>49030</th>\n",
       "      <td>1062278</td>\n",
       "      <td>1632441587</td>\n",
       "      <td>install</td>\n",
       "      <td>2021-09-23</td>\n",
       "      <td>1</td>\n",
       "      <td>1</td>\n",
       "      <td>0</td>\n",
       "    </tr>\n",
       "  </tbody>\n",
       "</table>\n",
       "<p>7745 rows × 7 columns</p>\n",
       "</div>"
      ],
      "text/plain": [
       "       player_id  event_timestamp event_name       date  player_id_count  \\\n",
       "49928    1047198       1631664035    install 2021-09-15                1   \n",
       "1832     1047199       1631664044    install 2021-09-15                1   \n",
       "51799    1045961       1631664057    install 2021-09-15                1   \n",
       "3236     1047200       1631664061    install 2021-09-15                1   \n",
       "853      1047203       1631664085    install 2021-09-15                1   \n",
       "...          ...              ...        ...        ...              ...   \n",
       "51529    1062270       1632441435    install 2021-09-23                1   \n",
       "9207     1062272       1632441512    install 2021-09-23                1   \n",
       "13090    1062274       1632441540    install 2021-09-23                1   \n",
       "5812     1062277       1632441579    install 2021-09-23                1   \n",
       "49030    1062278       1632441587    install 2021-09-23                1   \n",
       "\n",
       "       install  login  \n",
       "49928        1      0  \n",
       "1832         1      0  \n",
       "51799        1      0  \n",
       "3236         1      0  \n",
       "853          1      0  \n",
       "...        ...    ...  \n",
       "51529        1      0  \n",
       "9207         1      0  \n",
       "13090        1      0  \n",
       "5812         1      0  \n",
       "49030        1      0  \n",
       "\n",
       "[7745 rows x 7 columns]"
      ]
     },
     "execution_count": 37,
     "metadata": {},
     "output_type": "execute_result"
    }
   ],
   "source": [
    "data2"
   ]
  },
  {
   "cell_type": "code",
   "execution_count": 38,
   "metadata": {},
   "outputs": [],
   "source": [
    "# Группируем данные по датам\n",
    "data3=data2.groupby('date').sum()"
   ]
  },
  {
   "cell_type": "code",
   "execution_count": 39,
   "metadata": {},
   "outputs": [],
   "source": [
    "# Удаляем лишние признаки\n",
    "to_drop = ['player_id','event_timestamp','player_id_count']\n",
    "data3=data3.drop(to_drop,axis=1)"
   ]
  },
  {
   "cell_type": "code",
   "execution_count": 41,
   "metadata": {},
   "outputs": [],
   "source": [
    "# Составим функцию расчета удержания\n",
    "def retention(before_date, after_date):\n",
    "    inst = data3[(data3.index >= before_date) & (data3.index < after_date)].install.sum()\n",
    "    log = data3[(data3.index > before_date) & (data3.index <= after_date)].login.sum()\n",
    "    return ((log/inst)*100)"
   ]
  },
  {
   "cell_type": "code",
   "execution_count": 46,
   "metadata": {},
   "outputs": [
    {
     "name": "stdout",
     "output_type": "stream",
     "text": [
      "27.83 %\n"
     ]
    }
   ],
   "source": [
    "# Удержание первого дня за период с 15 по 18 сентября\n",
    "print(round(retention('2021-09-15', '2021-09-19'),2),'%')"
   ]
  },
  {
   "cell_type": "code",
   "execution_count": 47,
   "metadata": {},
   "outputs": [
    {
     "name": "stdout",
     "output_type": "stream",
     "text": [
      "26.55 %\n"
     ]
    }
   ],
   "source": [
    "# Удержание первого дня за период с 19 по 22 сентября\n",
    "print(round(retention('2021-09-19', '2021-09-23'),2),'%')"
   ]
  },
  {
   "cell_type": "markdown",
   "metadata": {},
   "source": [
    "**Поскольку разница в результатах не значительна нельзя с уверенностью утверждать, что удержание первого дня за период с 15 по 18 сентября значительно выше, чем удержание первого дня за период с 19 по 22 сентября**"
   ]
  },
  {
   "cell_type": "markdown",
   "metadata": {},
   "source": [
    "## Задание №3\n",
    "\n",
    "> В файле \"Lightmap. Тестовое задание №3.csv\" построчно приведены записи транзакций, совершенных в приложении когортой пользователей. В столбце event_timestamp указано время транзакции (unix timestamp UTC), в столбце registration_timestamp - дата регистрации пользователя, в столбце inapp_size - размер соответствующего платежа (сумма $).\n",
    ">"
   ]
  },
  {
   "cell_type": "markdown",
   "metadata": {},
   "source": [
    "**Требуется построить кривую накопительной суммы платежей когорты по дням с момента регистрации (один день - одна точка на кривой). На основании полученных данных построить и отобразить в виде другой кривой на том же графике прогноз значений накопительной суммы для дней жизни с 90 по 180.**"
   ]
  },
  {
   "cell_type": "code",
   "execution_count": 48,
   "metadata": {},
   "outputs": [
    {
     "data": {
      "text/plain": [
       "(11577, 3)"
      ]
     },
     "execution_count": 48,
     "metadata": {},
     "output_type": "execute_result"
    }
   ],
   "source": [
    "# Загрузим данные Lightmap. Тестовое задание №3.csv\n",
    "df = pd.read_csv('Lightmap. Тестовое задание №3.csv')\n",
    "df.shape"
   ]
  },
  {
   "cell_type": "code",
   "execution_count": 49,
   "metadata": {},
   "outputs": [],
   "source": [
    "# Переведём unix timestamp UTC в дату\n",
    "df['event_date'] = pd.to_datetime(df[\"event_timestamp\"],unit='s')\n",
    "df['registration_date'] = pd.to_datetime(df[\"registration_timestamp\"],unit='s')"
   ]
  },
  {
   "cell_type": "code",
   "execution_count": 50,
   "metadata": {},
   "outputs": [],
   "source": [
    "# Отсортируем данные по времени регистрации\n",
    "df2 = df[['registration_date', 'inapp_size']]\n",
    "df2 = df2.sort_values(by='registration_date')"
   ]
  },
  {
   "cell_type": "code",
   "execution_count": 51,
   "metadata": {},
   "outputs": [],
   "source": [
    "# Убираем время в дате\n",
    "df2 = df2.assign(registration_date = lambda x: pd.to_datetime(x['registration_date'].dt.strftime('%Y-%m-%d')))"
   ]
  },
  {
   "cell_type": "code",
   "execution_count": 52,
   "metadata": {},
   "outputs": [],
   "source": [
    "# Групируем сумму платежей по дням\n",
    "df2 = df2.groupby('registration_date').sum()"
   ]
  },
  {
   "cell_type": "code",
   "execution_count": 53,
   "metadata": {},
   "outputs": [],
   "source": [
    "# Прибавляем к каждому следующему дню платежи предыдущих дней\n",
    "inapp_sum = []\n",
    "x = 0\n",
    "for count in df2['inapp_size']:\n",
    "    x += count\n",
    "    inapp_sum.append(x)\n",
    "\n",
    "df2['inapp_sum'] = inapp_sum"
   ]
  },
  {
   "cell_type": "code",
   "execution_count": 54,
   "metadata": {},
   "outputs": [
    {
     "data": {
      "image/png": "[encoded data removed]",
      "text/plain": [
       "<Figure size 1080x432 with 1 Axes>"
      ]
     },
     "metadata": {
      "needs_background": "light"
     },
     "output_type": "display_data"
    }
   ],
   "source": [
    "# Построиим кривую накопительной суммы платежей когорты по дням \n",
    "import matplotlib.pyplot as plt\n",
    "plt.figure(figsize=(15,6))\n",
    "plt.grid(True)\n",
    "plt.xlabel('registration_date')\n",
    "plt.ylabel('Inapp sum')\n",
    "plt.plot(df2['inapp_sum'])\n",
    "plt.title('Кривая накопительной суммы платежей когорты по дням')\n",
    "plt.show()"
   ]
  },
  {
   "cell_type": "code",
   "execution_count": 55,
   "metadata": {},
   "outputs": [],
   "source": [
    "# Импортируем библиотеки для прогнозирования значений накопительной суммы для дней жизни с 90 по 180.\n",
    "#pip install pyramid-arima\n",
    "from statsmodels.tsa.stattools import adfuller\n",
    "from statsmodels.tsa.seasonal import seasonal_decompose\n",
    "from statsmodels.tsa.arima_model import ARIMA\n",
    "from pmdarima.arima import auto_arima\n",
    "import numpy as np"
   ]
  },
  {
   "cell_type": "code",
   "execution_count": 56,
   "metadata": {},
   "outputs": [],
   "source": [
    "# Добавим дополнительние признаки\n",
    "df3 = pd.DataFrame(np.ones(150), columns=['inapp_sum'])\n",
    "\n",
    "df3['registration_date'] = pd.date_range('2/1/2021', periods = 150, freq ='d')\n",
    "\n",
    "df3 = df3.set_index('registration_date')\n",
    "\n",
    "to_drop = ['inapp_size']\n",
    "df2 = df2.drop(to_drop,axis=1)\n",
    "\n",
    "df2 = df2.append(df3)"
   ]
  },
  {
   "cell_type": "code",
   "execution_count": 57,
   "metadata": {},
   "outputs": [],
   "source": [
    "# Разобьём данные на тренировочную и тестовую выборку\n",
    "coef_tr_te = 0.175\n",
    "train_data, test_data = df2.inapp_sum[3:int(len(df2.inapp_sum)*coef_tr_te)], df2.inapp_sum[int(len(df2.inapp_sum)*coef_tr_te):]"
   ]
  },
  {
   "cell_type": "code",
   "execution_count": 58,
   "metadata": {},
   "outputs": [
    {
     "name": "stdout",
     "output_type": "stream",
     "text": [
      "Performing stepwise search to minimize aic\n",
      " ARIMA(0,2,0)(0,0,0)[0] intercept   : AIC=445.759, Time=0.25 sec\n",
      " ARIMA(1,2,0)(0,0,0)[0] intercept   : AIC=446.479, Time=0.04 sec\n",
      " ARIMA(0,2,1)(0,0,0)[0] intercept   : AIC=444.618, Time=0.06 sec\n",
      " ARIMA(0,2,0)(0,0,0)[0]             : AIC=443.803, Time=0.01 sec\n",
      " ARIMA(1,2,1)(0,0,0)[0] intercept   : AIC=inf, Time=0.15 sec\n",
      "\n",
      "Best model:  ARIMA(0,2,0)(0,0,0)[0]          \n",
      "Total fit time: 0.562 seconds\n",
      "                               SARIMAX Results                                \n",
      "==============================================================================\n",
      "Dep. Variable:                      y   No. Observations:                   28\n",
      "Model:               SARIMAX(0, 2, 0)   Log Likelihood                -220.902\n",
      "Date:                Fri, 22 Oct 2021   AIC                            443.803\n",
      "Time:                        20:36:55   BIC                            445.061\n",
      "Sample:                             0   HQIC                           444.166\n",
      "                                 - 28                                         \n",
      "Covariance Type:                  opg                                         \n",
      "==============================================================================\n",
      "                 coef    std err          z      P>|z|      [0.025      0.975]\n",
      "------------------------------------------------------------------------------\n",
      "sigma2      1.396e+06   2.08e+05      6.698      0.000    9.87e+05     1.8e+06\n",
      "===================================================================================\n",
      "Ljung-Box (Q):                       27.37   Jarque-Bera (JB):                32.70\n",
      "Prob(Q):                              0.34   Prob(JB):                         0.00\n",
      "Heteroskedasticity (H):               7.61   Skew:                             1.51\n",
      "Prob(H) (two-sided):                  0.01   Kurtosis:                         7.59\n",
      "===================================================================================\n",
      "\n",
      "Warnings:\n",
      "[1] Covariance matrix calculated using the outer product of gradients (complex-step).\n"
     ]
    },
    {
     "data": {
      "image/png": "[encoded data removed]",
      "text/plain": [
       "<Figure size 1080x576 with 4 Axes>"
      ]
     },
     "metadata": {
      "needs_background": "light"
     },
     "output_type": "display_data"
    }
   ],
   "source": [
    "# Подберём параметры для ARIMA\n",
    "model_autoARIMA = auto_arima(train_data, start_p=0, start_q=0,\n",
    "                      test='adf',       \n",
    "                      max_p=3, max_q=3, \n",
    "                      m=1,              \n",
    "                      d=None,           \n",
    "                      seasonal=False,   \n",
    "                      start_P=0, \n",
    "                      D=0, \n",
    "                      trace=True,\n",
    "                      error_action='ignore',  \n",
    "                      suppress_warnings=True, \n",
    "                      stepwise=True)\n",
    "print(model_autoARIMA.summary())\n",
    "model_autoARIMA.plot_diagnostics(figsize=(15,8))\n",
    "plt.show()"
   ]
  },
  {
   "cell_type": "code",
   "execution_count": 59,
   "metadata": {},
   "outputs": [
    {
     "name": "stdout",
     "output_type": "stream",
     "text": [
      "                             ARIMA Model Results                              \n",
      "==============================================================================\n",
      "Dep. Variable:           D2.inapp_sum   No. Observations:                   26\n",
      "Model:                 ARIMA(0, 2, 0)   Log Likelihood                -220.880\n",
      "Method:                           css   S.D. of innovations           1183.733\n",
      "Date:                Fri, 22 Oct 2021   AIC                            445.759\n",
      "Time:                        20:36:56   BIC                            448.275\n",
      "Sample:                    01-06-2021   HQIC                           446.484\n",
      "                         - 01-31-2021                                         \n",
      "==============================================================================\n",
      "                 coef    std err          z      P>|z|      [0.025      0.975]\n",
      "------------------------------------------------------------------------------\n",
      "const         48.6154    232.149      0.209      0.834    -406.389     503.619\n",
      "==============================================================================\n"
     ]
    },
    {
     "name": "stderr",
     "output_type": "stream",
     "text": [
      "C:\\Users\\Ruslan\\anaconda3\\lib\\site-packages\\statsmodels\\tsa\\base\\tsa_model.py:159: ValueWarning: No frequency information was provided, so inferred frequency D will be used.\n",
      "  warnings.warn('No frequency information was'\n",
      "C:\\Users\\Ruslan\\anaconda3\\lib\\site-packages\\statsmodels\\tsa\\base\\tsa_model.py:159: ValueWarning: No frequency information was provided, so inferred frequency D will be used.\n",
      "  warnings.warn('No frequency information was'\n"
     ]
    }
   ],
   "source": [
    "# Обучаем модель\n",
    "model = ARIMA(train_data, order=(0,2,0))  \n",
    "fitted = model.fit()  \n",
    "print(fitted.summary())"
   ]
  },
  {
   "cell_type": "code",
   "execution_count": 60,
   "metadata": {},
   "outputs": [],
   "source": [
    "fc, se, conf = fitted.forecast(150, alpha=1)"
   ]
  },
  {
   "cell_type": "code",
   "execution_count": 61,
   "metadata": {},
   "outputs": [
    {
     "data": {
      "image/png": "[encoded data removed]",
      "text/plain": [
       "<Figure size 1440x720 with 1 Axes>"
      ]
     },
     "metadata": {
      "needs_background": "light"
     },
     "output_type": "display_data"
    }
   ],
   "source": [
    "# Построим требуемые кривые на графике\n",
    "\n",
    "fc_series = pd.Series(fc, index=test_data.index)\n",
    "lower_series = pd.Series(conf[:, 0], index=test_data.index)\n",
    "upper_series = pd.Series(conf[:, 1], index=test_data.index)\n",
    "plt.figure(figsize=(20,10))\n",
    "plt.plot(train_data, label='Кривая накопительной суммы платежей когорты по дням с момента регистрации')\n",
    "plt.plot(fc_series, color = 'orange',label='Прогноз значений накопительной суммы для дней жизни с 30 по 180')\n",
    "plt.fill_between(lower_series.index, lower_series, upper_series, \n",
    "                 color='k', alpha=.10)\n",
    "plt.xlabel('Время')\n",
    "plt.ylabel('Сумма платежей')\n",
    "plt.legend(loc='upper left', fontsize=8)\n",
    "plt.show()"
   ]
  },
  {
   "cell_type": "code",
   "execution_count": null,
   "metadata": {},
   "outputs": [],
   "source": []
  },
  {
   "cell_type": "code",
   "execution_count": null,
   "metadata": {},
   "outputs": [],
   "source": []
  }
 ],
 "metadata": {
  "kernelspec": {
   "display_name": "Python 3",
   "language": "python",
   "name": "python3"
  },
  "language_info": {
   "codemirror_mode": {
    "name": "ipython",
    "version": 3
   },
   "file_extension": ".py",
   "mimetype": "text/x-python",
   "name": "python",
   "nbconvert_exporter": "python",
   "pygments_lexer": "ipython3",
   "version": "3.8.3"
  }
 },
 "nbformat": 4,
 "nbformat_minor": 4
}
